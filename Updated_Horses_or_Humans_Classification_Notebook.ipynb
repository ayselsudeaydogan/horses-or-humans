{
  "cells": [
    {
      "cell_type": "markdown",
      "metadata": {
        "id": "view-in-github",
        "colab_type": "text"
      },
      "source": [
        "<a href=\"https://colab.research.google.com/github/uuu4/horses-or-humans/blob/main/Updated_Horses_or_Humans_Classification_Notebook.ipynb\" target=\"_parent\"><img src=\"https://colab.research.google.com/assets/colab-badge.svg\" alt=\"Open In Colab\"/></a>"
      ]
    },
    {
      "cell_type": "markdown",
      "id": "fcfbe902",
      "metadata": {
        "id": "fcfbe902"
      },
      "source": [
        "# Horses or Humans Classification with TensorFlow\n",
        "Bu çalışma, TensorFlow kullanarak *Horses or Humans* veri setini sınıflandırma problemine odaklanır."
      ]
    },
    {
      "cell_type": "markdown",
      "id": "aec1d27b",
      "metadata": {
        "id": "aec1d27b"
      },
      "source": [
        "### Kütüphanelerin Yüklenmesi\n",
        "TensorFlow, TensorFlow Datasets, Matplotlib gibi gerekli kütüphaneler yükleniyor."
      ]
    },
    {
      "cell_type": "code",
      "execution_count": 1,
      "id": "70ab0ebe",
      "metadata": {
        "id": "70ab0ebe"
      },
      "outputs": [],
      "source": [
        "\n",
        "import tensorflow as tf\n",
        "import tensorflow_datasets as tfds\n",
        "import matplotlib.pyplot as plt\n",
        "import numpy as np\n",
        "from sklearn.metrics import confusion_matrix, ConfusionMatrixDisplay"
      ]
    },
    {
      "cell_type": "markdown",
      "source": [],
      "metadata": {
        "id": "LKkl7GpASjXv"
      },
      "id": "LKkl7GpASjXv"
    },
    {
      "cell_type": "markdown",
      "source": [
        "### Veri setinin indirilmesi\n",
        "Veri seti tensorflow_datasetsten alınmış olup herkesin kullanımına açıktır."
      ],
      "metadata": {
        "id": "-RfKtqasSl25"
      },
      "id": "-RfKtqasSl25"
    },
    {
      "cell_type": "code",
      "source": [
        "# Veri setini indirme ve yükleme\n",
        "ds_train, ds_test = tfds.load(\n",
        "    'horses_or_humans',\n",
        "    split=['train', 'test'],\n",
        "    as_supervised=True\n",
        ")\n"
      ],
      "metadata": {
        "id": "gkymoIalS1T-"
      },
      "id": "gkymoIalS1T-",
      "execution_count": null,
      "outputs": []
    },
    {
      "cell_type": "markdown",
      "source": [
        "Önişleme işlemleri yapılır."
      ],
      "metadata": {
        "id": "c6JBwHvrS5pZ"
      },
      "id": "c6JBwHvrS5pZ"
    },
    {
      "cell_type": "code",
      "source": [
        "# Veri ön işleme\n",
        "def normalize_img(image, label):\n",
        "    image = tf.cast(image, tf.float32) / 255.0\n",
        "    return image, label\n",
        "\n",
        "BATCH_SIZE = 32\n",
        "ds_train = ds_train.map(normalize_img).shuffle(1000).batch(BATCH_SIZE).prefetch(tf.data.AUTOTUNE)\n",
        "ds_test = ds_test.map(normalize_img).batch(BATCH_SIZE).prefetch(tf.data.AUTOTUNE)"
      ],
      "metadata": {
        "id": "vlGYGOUSS8Yz"
      },
      "id": "vlGYGOUSS8Yz",
      "execution_count": 3,
      "outputs": []
    },
    {
      "cell_type": "markdown",
      "source": [
        "### Model Tanımlaması ve Eğitimi\n",
        "Bu hücrede model tanımlaması ve eğitim yapılır, en sonunda binary(ikili) sınıflandırma yapılacaktır.(Atlar ve insanlar)"
      ],
      "metadata": {
        "id": "Nxhhf_YyS-4A"
      },
      "id": "Nxhhf_YyS-4A"
    },
    {
      "cell_type": "code",
      "source": [
        "# Model tanımlama\n",
        "model = tf.keras.Sequential([\n",
        "    tf.keras.layers.Conv2D(16, (3,3), activation='relu', input_shape=(300, 300, 3)),\n",
        "    tf.keras.layers.MaxPooling2D(2,2),\n",
        "    tf.keras.layers.Conv2D(32, (3,3), activation='relu'),\n",
        "    tf.keras.layers.MaxPooling2D(2,2),\n",
        "    tf.keras.layers.Conv2D(64, (3,3), activation='relu'),\n",
        "    tf.keras.layers.MaxPooling2D(2,2),\n",
        "    tf.keras.layers.Flatten(),\n",
        "    tf.keras.layers.Dense(128, activation='relu'),\n",
        "    tf.keras.layers.Dense(1, activation='sigmoid')\n",
        "])\n",
        "\n",
        "model.compile(\n",
        "    loss='binary_crossentropy',\n",
        "    optimizer='adam',\n",
        "    metrics=['accuracy']\n",
        ")\n",
        "\n",
        "# Model eğitimi\n",
        "history = model.fit(\n",
        "    ds_train,\n",
        "    epochs=5,\n",
        "    validation_data=ds_test\n",
        ")"
      ],
      "metadata": {
        "colab": {
          "base_uri": "https://localhost:8080/"
        },
        "id": "buvgBqYmTRTR",
        "outputId": "fffe5ce6-8eff-482f-d17d-a2b1a96a14b0"
      },
      "id": "buvgBqYmTRTR",
      "execution_count": null,
      "outputs": [
        {
          "output_type": "stream",
          "name": "stderr",
          "text": [
            "/usr/local/lib/python3.10/dist-packages/keras/src/layers/convolutional/base_conv.py:107: UserWarning: Do not pass an `input_shape`/`input_dim` argument to a layer. When using Sequential models, prefer using an `Input(shape)` object as the first layer in the model instead.\n",
            "  super().__init__(activity_regularizer=activity_regularizer, **kwargs)\n"
          ]
        },
        {
          "output_type": "stream",
          "name": "stdout",
          "text": [
            "Epoch 1/5\n",
            "\u001b[1m33/33\u001b[0m \u001b[32m━━━━━━━━━━━━━━━━━━━━\u001b[0m\u001b[37m\u001b[0m \u001b[1m121s\u001b[0m 3s/step - accuracy: 0.6629 - loss: 0.9957 - val_accuracy: 0.8594 - val_loss: 0.5846\n",
            "Epoch 2/5\n",
            "\u001b[1m33/33\u001b[0m \u001b[32m━━━━━━━━━━━━━━━━━━━━\u001b[0m\u001b[37m\u001b[0m \u001b[1m108s\u001b[0m 3s/step - accuracy: 0.9245 - loss: 0.1825 - val_accuracy: 0.7188 - val_loss: 2.3592\n",
            "Epoch 3/5\n",
            "\u001b[1m33/33\u001b[0m \u001b[32m━━━━━━━━━━━━━━━━━━━━\u001b[0m\u001b[37m\u001b[0m \u001b[1m147s\u001b[0m 3s/step - accuracy: 0.9847 - loss: 0.0411 - val_accuracy: 0.7305 - val_loss: 2.2472\n",
            "Epoch 4/5\n",
            "\u001b[1m 3/33\u001b[0m \u001b[32m━\u001b[0m\u001b[37m━━━━━━━━━━━━━━━━━━━\u001b[0m \u001b[1m1:56\u001b[0m 4s/step - accuracy: 0.9271 - loss: 0.1850"
          ]
        }
      ]
    },
    {
      "cell_type": "markdown",
      "id": "14ef8ff5",
      "metadata": {
        "id": "14ef8ff5"
      },
      "source": [
        "### Confusion Matrix\n",
        "Modelin performansını ölçmek için tahmin edilen değerlerle gerçek değerleri karşılaştırarak bir confusion matrix oluşturulacak."
      ]
    },
    {
      "cell_type": "code",
      "execution_count": null,
      "id": "41361327",
      "metadata": {
        "id": "41361327"
      },
      "outputs": [],
      "source": [
        "\n",
        "# Confusion matrix için tahminler ve gerçek etiketlerin toplanması\n",
        "y_true = []\n",
        "y_pred = []\n",
        "for img, label in ds_test.unbatch().as_numpy_iterator():\n",
        "    img_array = np.expand_dims(img, axis=0)\n",
        "    prediction = model.predict(img_array)[0][0]\n",
        "    predicted_label = 1 if prediction > 0.5 else 0\n",
        "    y_true.append(label)\n",
        "    y_pred.append(predicted_label)\n",
        "\n",
        "# Confusion matrix hesaplama ve görselleştirme\n",
        "cm = confusion_matrix(y_true, y_pred)\n",
        "disp = ConfusionMatrixDisplay(confusion_matrix=cm, display_labels=[\"Human\", \"Horse\"])\n",
        "disp.plot(cmap='Blues')\n",
        "plt.title(\"Confusion Matrix\")\n",
        "plt.show()\n",
        "\n",
        "# TT, TF, FT, FF değerlerini ekrana yazdırma\n",
        "tn, fp, fn, tp = cm.ravel()\n",
        "print(f\"True Positive (TP): {tp}\")\n",
        "print(f\"False Positive (FP): {fp}\")\n",
        "print(f\"False Negative (FN): {fn}\")\n",
        "print(f\"True Negative (TN): {tn}\")\n"
      ]
    },
    {
      "cell_type": "markdown",
      "id": "4d68d28c",
      "metadata": {
        "id": "4d68d28c"
      },
      "source": [
        "### Sonuçlar ve Analiz\n",
        "Sonuçlar, modelin doğruluğu ve genel performansı üzerinde yorum yapılarak analiz edilecektir."
      ]
    },
    {
      "cell_type": "markdown",
      "id": "84d04ad4",
      "metadata": {
        "id": "84d04ad4"
      },
      "source": [
        "### Ek Metriklerin Hesaplanması\n",
        "Bu hücrede modelin performansını daha iyi anlamak için **accuracy**, **precision**, **recall** ve **F1-score** gibi metrikler hesaplanır."
      ]
    },
    {
      "cell_type": "code",
      "execution_count": null,
      "id": "5077397a",
      "metadata": {
        "id": "5077397a"
      },
      "outputs": [],
      "source": [
        "\n",
        "from sklearn.metrics import accuracy_score, precision_score, recall_score, f1_score\n",
        "\n",
        "# Training Accuracy\n",
        "train_accuracy = accuracy_score(y_train_true, y_train_pred)\n",
        "print(f\"Training Accuracy: {train_accuracy:.4f}\")\n",
        "\n",
        "# Validation Accuracy\n",
        "val_accuracy = accuracy_score(y_true, y_pred)\n",
        "print(f\"Validation Accuracy: {val_accuracy:.4f}\")\n",
        "\n",
        "# Precision\n",
        "precision = precision_score(y_true, y_pred, average='binary')\n",
        "print(f\"Precision: {precision:.4f}\")\n",
        "\n",
        "# Recall\n",
        "recall = recall_score(y_true, y_pred, average='binary')\n",
        "print(f\"Recall: {recall:.4f}\")\n",
        "\n",
        "# F1-Score\n",
        "f1 = f1_score(y_true, y_pred, average='binary')\n",
        "print(f\"F1-Score: {f1:.4f}\")\n"
      ]
    },
    {
      "cell_type": "markdown",
      "id": "b02978e0",
      "metadata": {
        "id": "b02978e0"
      },
      "source": [
        "\n",
        "- Modelimiz *Horses or Humans* veri seti üzerinde eğitildi ve test edildi.\n",
        "- Sonuçlara bakıldığında test doğruluğunun makul seviyede olduğu görülüyor.\n",
        "- Confusion Matrix, modelin doğru ve yanlış sınıflandırmalarını görmemizi sağladı.\n",
        "- Daha yüksek doğruluk elde etmek için daha derin bir model, daha fazla epoch ya da veri artırma (data augmentation) gibi yöntemler kullanılabilir.\n"
      ]
    }
  ],
  "metadata": {
    "colab": {
      "provenance": [],
      "include_colab_link": true
    },
    "language_info": {
      "name": "python"
    },
    "kernelspec": {
      "name": "python3",
      "display_name": "Python 3"
    }
  },
  "nbformat": 4,
  "nbformat_minor": 5
}